{
  "nbformat": 4,
  "nbformat_minor": 0,
  "metadata": {
    "colab": {
      "name": "4월/20일 1차시 수업.ipynb",
      "provenance": [],
      "collapsed_sections": [],
      "authorship_tag": "ABX9TyNgQt6ttcJ9tec2MVbgeybq",
      "include_colab_link": true
    },
    "kernelspec": {
      "name": "python3",
      "display_name": "Python 3"
    }
  },
  "cells": [
    {
      "cell_type": "markdown",
      "metadata": {
        "id": "view-in-github",
        "colab_type": "text"
      },
      "source": [
        "<a href=\"https://colab.research.google.com/github/kumo12/Python/blob/master/4%EC%9B%94_20%EC%9D%BC_1%EC%B0%A8%EC%8B%9C_%EC%88%98%EC%97%85.ipynb\" target=\"_parent\"><img src=\"https://colab.research.google.com/assets/colab-badge.svg\" alt=\"Open In Colab\"/></a>"
      ]
    },
    {
      "cell_type": "markdown",
      "metadata": {
        "id": "jgUljSvb7zJJ",
        "colab_type": "text"
      },
      "source": [
        "**[학습목표]**\n",
        "1. list, Range\n",
        "2. for문\n",
        "---\n"
      ]
    },
    {
      "cell_type": "code",
      "metadata": {
        "id": "l6abiX2F7U1Z",
        "colab_type": "code",
        "outputId": "1a63b9d3-20bc-4914-ea58-595d1cb8498e",
        "colab": {
          "base_uri": "https://localhost:8080/",
          "height": 35
        }
      },
      "source": [
        "range(5)"
      ],
      "execution_count": 0,
      "outputs": [
        {
          "output_type": "execute_result",
          "data": {
            "text/plain": [
              "range(0, 5)"
            ]
          },
          "metadata": {
            "tags": []
          },
          "execution_count": 3
        }
      ]
    },
    {
      "cell_type": "code",
      "metadata": {
        "id": "PMks-c3G8a-J",
        "colab_type": "code",
        "outputId": "700dc10d-349e-407a-a31d-60fc0e5773ea",
        "colab": {
          "base_uri": "https://localhost:8080/",
          "height": 35
        }
      },
      "source": [
        "a = list(range(1,6))\n",
        "a"
      ],
      "execution_count": 0,
      "outputs": [
        {
          "output_type": "execute_result",
          "data": {
            "text/plain": [
              "[1, 2, 3, 4, 5]"
            ]
          },
          "metadata": {
            "tags": []
          },
          "execution_count": 8
        }
      ]
    },
    {
      "cell_type": "code",
      "metadata": {
        "id": "zy4t4XYJ9Loi",
        "colab_type": "code",
        "outputId": "5ec031d7-3adb-4b11-9c58-d563236fc3da",
        "colab": {
          "base_uri": "https://localhost:8080/",
          "height": 35
        }
      },
      "source": [
        "type(a)"
      ],
      "execution_count": 0,
      "outputs": [
        {
          "output_type": "execute_result",
          "data": {
            "text/plain": [
              "list"
            ]
          },
          "metadata": {
            "tags": []
          },
          "execution_count": 10
        }
      ]
    },
    {
      "cell_type": "code",
      "metadata": {
        "id": "AfpDDx2-9NwF",
        "colab_type": "code",
        "outputId": "fabe8978-c767-4716-fb32-875caf3b7fe3",
        "colab": {
          "base_uri": "https://localhost:8080/",
          "height": 35
        }
      },
      "source": [
        "for i in range(1, 11) :\n",
        "  print(i, end=' ')"
      ],
      "execution_count": 0,
      "outputs": [
        {
          "output_type": "stream",
          "text": [
            "1 2 3 4 5 6 7 8 9 10 "
          ],
          "name": "stdout"
        }
      ]
    },
    {
      "cell_type": "markdown",
      "metadata": {
        "id": "DZYIE3dK9mBV",
        "colab_type": "text"
      },
      "source": [
        "**[문제1]**\n",
        "for문을 이용해서 10부터 0까지 -2씩 출력"
      ]
    },
    {
      "cell_type": "code",
      "metadata": {
        "id": "XjoXSLJW9sEj",
        "colab_type": "code",
        "outputId": "24bb4896-9c79-42bd-ce6d-808695d27067",
        "colab": {
          "base_uri": "https://localhost:8080/",
          "height": 35
        }
      },
      "source": [
        "for i in range (10, -1, -2) :\n",
        "  print(i, end=' ')"
      ],
      "execution_count": 0,
      "outputs": [
        {
          "output_type": "stream",
          "text": [
            "10 8 6 4 2 0 "
          ],
          "name": "stdout"
        }
      ]
    },
    {
      "cell_type": "code",
      "metadata": {
        "id": "e19mRSCu-Yuy",
        "colab_type": "code",
        "outputId": "59d0134d-271f-4c46-8af4-944fd34179ee",
        "colab": {
          "base_uri": "https://localhost:8080/",
          "height": 107
        }
      },
      "source": [
        "a = [1.3, 2.1, 4.5, 5, 5.1]\n",
        "for i in a :\n",
        "  print(a)"
      ],
      "execution_count": 0,
      "outputs": [
        {
          "output_type": "stream",
          "text": [
            "[1.3, 2.1, 4.5, 5, 5.1]\n",
            "[1.3, 2.1, 4.5, 5, 5.1]\n",
            "[1.3, 2.1, 4.5, 5, 5.1]\n",
            "[1.3, 2.1, 4.5, 5, 5.1]\n",
            "[1.3, 2.1, 4.5, 5, 5.1]\n"
          ],
          "name": "stdout"
        }
      ]
    },
    {
      "cell_type": "code",
      "metadata": {
        "id": "QVK1uafh_EcS",
        "colab_type": "code",
        "outputId": "ed601d5d-515b-4ad4-d8e0-680243a00c20",
        "colab": {
          "base_uri": "https://localhost:8080/",
          "height": 107
        }
      },
      "source": [
        "a = [1.3, 2.1, 4.5, 5, 5.1]\n",
        "for i in range(len(a)) :\n",
        "  print(a[i])"
      ],
      "execution_count": 0,
      "outputs": [
        {
          "output_type": "stream",
          "text": [
            "1.3\n",
            "2.1\n",
            "4.5\n",
            "5\n",
            "5.1\n"
          ],
          "name": "stdout"
        }
      ]
    },
    {
      "cell_type": "markdown",
      "metadata": {
        "id": "ZLT5Ad56_lJC",
        "colab_type": "text"
      },
      "source": [
        "**[문제2]**\n",
        "for문을\n",
        "\n",
        "```\n",
        "#\n",
        "Hello Python 1\n",
        "\n",
        ". . .\n",
        "Hello Python 10"
      ]
    },
    {
      "cell_type": "code",
      "metadata": {
        "id": "B6fQMdG2_1Sa",
        "colab_type": "code",
        "outputId": "8487684d-47d0-4dde-f17e-5bdf8edbc272",
        "colab": {
          "base_uri": "https://localhost:8080/",
          "height": 190
        }
      },
      "source": [
        "for i in range() :\n",
        "  print('Hello Python', )"
      ],
      "execution_count": 0,
      "outputs": [
        {
          "output_type": "error",
          "ename": "TypeError",
          "evalue": "ignored",
          "traceback": [
            "\u001b[0;31m---------------------------------------------------------------------------\u001b[0m",
            "\u001b[0;31mTypeError\u001b[0m                                 Traceback (most recent call last)",
            "\u001b[0;32m<ipython-input-21-ba7418c1c19a>\u001b[0m in \u001b[0;36m<module>\u001b[0;34m()\u001b[0m\n\u001b[0;32m----> 1\u001b[0;31m \u001b[0;32mfor\u001b[0m \u001b[0mi\u001b[0m \u001b[0;32min\u001b[0m \u001b[0mrange\u001b[0m\u001b[0;34m(\u001b[0m\u001b[0;34m)\u001b[0m \u001b[0;34m:\u001b[0m\u001b[0;34m\u001b[0m\u001b[0;34m\u001b[0m\u001b[0m\n\u001b[0m\u001b[1;32m      2\u001b[0m   \u001b[0mprint\u001b[0m\u001b[0;34m(\u001b[0m\u001b[0;34m'Hello Python'\u001b[0m\u001b[0;34m,\u001b[0m \u001b[0;34m)\u001b[0m\u001b[0;34m\u001b[0m\u001b[0;34m\u001b[0m\u001b[0m\n",
            "\u001b[0;31mTypeError\u001b[0m: range expected 1 arguments, got 0"
          ]
        }
      ]
    },
    {
      "cell_type": "code",
      "metadata": {
        "id": "6QxpAgffAKcQ",
        "colab_type": "code",
        "outputId": "8831b11d-7fcf-4e2a-f7ef-44058f5a8813",
        "colab": {
          "base_uri": "https://localhost:8080/",
          "height": 53
        }
      },
      "source": [
        "count = int(input('몇번 반복? >>>  '))\n",
        "type(count)"
      ],
      "execution_count": 0,
      "outputs": [
        {
          "output_type": "stream",
          "text": [
            "몇번 반복? >>>  3\n"
          ],
          "name": "stdout"
        },
        {
          "output_type": "execute_result",
          "data": {
            "text/plain": [
              "int"
            ]
          },
          "metadata": {
            "tags": []
          },
          "execution_count": 25
        }
      ]
    },
    {
      "cell_type": "code",
      "metadata": {
        "id": "IMfKtZAjAqIT",
        "colab_type": "code",
        "outputId": "d2d30e28-3658-4fe9-ccfe-65a90b4b4609",
        "colab": {
          "base_uri": "https://localhost:8080/",
          "height": 89
        }
      },
      "source": [
        "count = int(input('몇번 반복? >>> '))\n",
        "for i in range(count) :\n",
        "  print('좋아', i+1)"
      ],
      "execution_count": 0,
      "outputs": [
        {
          "output_type": "stream",
          "text": [
            "몇번 반복? >>> 3\n",
            "좋아 1\n",
            "좋아 2\n",
            "좋아 3\n"
          ],
          "name": "stdout"
        }
      ]
    },
    {
      "cell_type": "code",
      "metadata": {
        "id": "DQ2rrGrFBKBz",
        "colab_type": "code",
        "outputId": "012b8677-7416-4401-bfdb-18db595901cd",
        "colab": {
          "base_uri": "https://localhost:8080/",
          "height": 53
        }
      },
      "source": [
        "a = list(map(int, (input('숫자 2개 입력 >>> ').split())))\n",
        "print(a)"
      ],
      "execution_count": 0,
      "outputs": [
        {
          "output_type": "stream",
          "text": [
            "숫자 2개 입력 >>> 2 0 0 1\n",
            "[2, 0, 0, 1]\n"
          ],
          "name": "stdout"
        }
      ]
    },
    {
      "cell_type": "markdown",
      "metadata": {
        "id": "AhioGlXNCfMK",
        "colab_type": "text"
      },
      "source": [
        "**[문제3]**\n",
        "숫자 5개를 입력 받아 합 구하기"
      ]
    },
    {
      "cell_type": "code",
      "metadata": {
        "id": "2mQ9hwctCkwK",
        "colab_type": "code",
        "outputId": "9a8964b8-5134-4b21-b78c-5794c157b098",
        "colab": {
          "base_uri": "https://localhost:8080/",
          "height": 89
        }
      },
      "source": [
        "a = list(map(int, (input('숫자 입력 >>> ').split())))\n",
        "sum = 0\n",
        "avg = 0.0\n",
        "for i in range(len(a)) :\n",
        "  sum+=a[i]\n",
        "  print(a[i], end = ' / ')\n",
        "print('\\n합계 : ', sum)\n",
        "avg = sum/len(a)\n",
        "print('평균 : ', avg)"
      ],
      "execution_count": 0,
      "outputs": [
        {
          "output_type": "stream",
          "text": [
            "숫자 입력 >>> 1 2 3 4 5 \n",
            "1 / 2 / 3 / 4 / 5 / \n",
            "합계 :  15\n",
            "평균 :  3.0\n"
          ],
          "name": "stdout"
        }
      ]
    }
  ]
}