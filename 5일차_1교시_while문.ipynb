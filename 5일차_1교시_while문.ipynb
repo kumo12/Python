{
  "nbformat": 4,
  "nbformat_minor": 0,
  "metadata": {
    "colab": {
      "name": "5일차_1교시_while문.ipynb",
      "provenance": [],
      "collapsed_sections": [],
      "authorship_tag": "ABX9TyMXqglzskuIHxnALQIIo0ph",
      "include_colab_link": true
    },
    "kernelspec": {
      "name": "python3",
      "display_name": "Python 3"
    }
  },
  "cells": [
    {
      "cell_type": "markdown",
      "metadata": {
        "id": "view-in-github",
        "colab_type": "text"
      },
      "source": [
        "<a href=\"https://colab.research.google.com/github/kumo12/Python/blob/master/5%EC%9D%BC%EC%B0%A8_1%EA%B5%90%EC%8B%9C_while%EB%AC%B8.ipynb\" target=\"_parent\"><img src=\"https://colab.research.google.com/assets/colab-badge.svg\" alt=\"Open In Colab\"/></a>"
      ]
    },
    {
      "cell_type": "markdown",
      "metadata": {
        "id": "xUtUE_T95hc2",
        "colab_type": "text"
      },
      "source": [
        "# 1.1.while\n",
        "\n",
        "```\n",
        "#\n",
        "```\n",
        "\n"
      ]
    },
    {
      "cell_type": "code",
      "metadata": {
        "id": "fzqNcEwK5w1l",
        "colab_type": "code",
        "colab": {
          "base_uri": "https://localhost:8080/",
          "height": 35
        },
        "outputId": "26c79535-bc14-495f-b100-f2797b771fe0"
      },
      "source": [
        "for i in range(1, 11, 2) :\n",
        "  print(i, end = ' ')"
      ],
      "execution_count": 7,
      "outputs": [
        {
          "output_type": "stream",
          "text": [
            "1 3 5 7 9 "
          ],
          "name": "stdout"
        }
      ]
    },
    {
      "cell_type": "code",
      "metadata": {
        "id": "m9OiVX7U6J7V",
        "colab_type": "code",
        "colab": {}
      },
      "source": [
        "while( i < 11) :\n",
        "  print(i, end = ' ')\n",
        "  i += 2"
      ],
      "execution_count": 0,
      "outputs": []
    },
    {
      "cell_type": "code",
      "metadata": {
        "id": "Nti02SEb6jK3",
        "colab_type": "code",
        "colab": {
          "base_uri": "https://localhost:8080/",
          "height": 35
        },
        "outputId": "28ad4f5f-64d6-42a1-dc40-51548cd3e3e8"
      },
      "source": [
        "num = list(range(10, 110, 10))\n",
        "num"
      ],
      "execution_count": 14,
      "outputs": [
        {
          "output_type": "execute_result",
          "data": {
            "text/plain": [
              "[10, 20, 30, 40, 50, 60, 70, 80, 90, 100]"
            ]
          },
          "metadata": {
            "tags": []
          },
          "execution_count": 14
        }
      ]
    },
    {
      "cell_type": "code",
      "metadata": {
        "id": "nYYbGHdE6uO0",
        "colab_type": "code",
        "colab": {
          "base_uri": "https://localhost:8080/",
          "height": 35
        },
        "outputId": "cdb215a6-9967-4b73-bbd2-32e96446e727"
      },
      "source": [
        "a=0\n",
        "while (a < len(num)) :\n",
        "  print(num[a], end=' ')\n",
        "  a += 1"
      ],
      "execution_count": 17,
      "outputs": [
        {
          "output_type": "stream",
          "text": [
            "10 20 30 40 50 60 70 80 90 100 "
          ],
          "name": "stdout"
        }
      ]
    },
    {
      "cell_type": "code",
      "metadata": {
        "id": "larPJCOR7kgo",
        "colab_type": "code",
        "colab": {
          "base_uri": "https://localhost:8080/",
          "height": 35
        },
        "outputId": "804c5f99-68f7-4770-8961-a0fbcf7e634f"
      },
      "source": [
        "lunch = ['라면', '햄버거', '김밥', '돈가스', '자장면']\n",
        "i = 0\n",
        "while(i < len(lunch)) : \n",
        "  print(lunch[i], end = ' ')\n",
        "  i += 1"
      ],
      "execution_count": 22,
      "outputs": [
        {
          "output_type": "stream",
          "text": [
            "라면 햄버거 김밥 돈가스 자장면 "
          ],
          "name": "stdout"
        }
      ]
    },
    {
      "cell_type": "code",
      "metadata": {
        "id": "vAzw1xQp8GSN",
        "colab_type": "code",
        "colab": {
          "base_uri": "https://localhost:8080/",
          "height": 35
        },
        "outputId": "d7588cd8-250f-4e29-fc1a-1c8db1ff6b61"
      },
      "source": [
        "lunch.sort()\n",
        "lunch"
      ],
      "execution_count": 28,
      "outputs": [
        {
          "output_type": "execute_result",
          "data": {
            "text/plain": [
              "['김밥', '돈가스', '라면', '자장면', '햄버거']"
            ]
          },
          "metadata": {
            "tags": []
          },
          "execution_count": 28
        }
      ]
    },
    {
      "cell_type": "code",
      "metadata": {
        "id": "EBroPY6D8cbV",
        "colab_type": "code",
        "colab": {
          "base_uri": "https://localhost:8080/",
          "height": 35
        },
        "outputId": "33775dea-bdbd-4d1c-eaf8-3e4b3f750319"
      },
      "source": [
        "lunch.reverse()\n",
        "lunch"
      ],
      "execution_count": 32,
      "outputs": [
        {
          "output_type": "execute_result",
          "data": {
            "text/plain": [
              "['김밥', '돈가스', '라면', '자장면', '햄버거']"
            ]
          },
          "metadata": {
            "tags": []
          },
          "execution_count": 32
        }
      ]
    },
    {
      "cell_type": "code",
      "metadata": {
        "id": "Xu0f3OfN8m_l",
        "colab_type": "code",
        "colab": {
          "base_uri": "https://localhost:8080/",
          "height": 35
        },
        "outputId": "b91ef7f8-073d-4ed0-e4ed-dc486b2f960a"
      },
      "source": [
        "import random as r\n",
        "r.shuffle(lunch)\n",
        "lunch"
      ],
      "execution_count": 35,
      "outputs": [
        {
          "output_type": "execute_result",
          "data": {
            "text/plain": [
              "['자장면', '김밥', '돈가스', '햄버거', '라면']"
            ]
          },
          "metadata": {
            "tags": []
          },
          "execution_count": 35
        }
      ]
    },
    {
      "cell_type": "markdown",
      "metadata": {
        "id": "sSxEtihq9LaA",
        "colab_type": "text"
      },
      "source": [
        ""
      ]
    },
    {
      "cell_type": "code",
      "metadata": {
        "id": "RAmh3c_q9MGH",
        "colab_type": "code",
        "colab": {
          "base_uri": "https://localhost:8080/",
          "height": 35
        },
        "outputId": "8a539131-3c5d-4ed7-dd7c-e0ffec92ec24"
      },
      "source": [
        "i = 1\n",
        "while i <= 10 :\n",
        "  print(i, end = ' ')\n",
        "  i += 1\n",
        "  if i <7 :\n",
        "    continue\n",
        "  break"
      ],
      "execution_count": 37,
      "outputs": [
        {
          "output_type": "stream",
          "text": [
            "1 2 3 4 5 6 "
          ],
          "name": "stdout"
        }
      ]
    },
    {
      "cell_type": "code",
      "metadata": {
        "id": "hPmTlmKG9ebp",
        "colab_type": "code",
        "colab": {}
      },
      "source": [
        ""
      ],
      "execution_count": 0,
      "outputs": []
    },
    {
      "cell_type": "markdown",
      "metadata": {
        "id": "HPedtfdK9kJu",
        "colab_type": "text"
      },
      "source": [
        "# [연습문제1]\n",
        "\n",
        "1. 10부터 10단위 100까지의 num List만들기 : range() 이용\n",
        "2. while문을 이용하여 List 값 출력하기\n",
        "```\n",
        "10/20...\n",
        "```\n",
        "3. List 합계와 평균구하기\n",
        "4. continue를 이용하여 50뺴고 출력하기\n",
        "5. break를 이용하여 80까지만 출력하기"
      ]
    },
    {
      "cell_type": "code",
      "metadata": {
        "id": "bhSiBuOB98nO",
        "colab_type": "code",
        "colab": {
          "base_uri": "https://localhost:8080/",
          "height": 71
        },
        "outputId": "a0d6a442-9a26-4bf5-8efc-d321ee712348"
      },
      "source": [
        "num=list(range(10, 110, 10))\n",
        "i=0\n",
        "sum=0\n",
        "avr=0\n",
        "while(i<len(num)):\n",
        "  if num[i]==50:\n",
        "    i+=1\n",
        "    continue\n",
        "  if num[i]>80:\n",
        "    break\n",
        "  print(num[i], end='/')\n",
        "  sum+=int(num[i])\n",
        "  i+=1\n",
        "avr=sum/10\n",
        "print('\\n합계 ', sum)\n",
        "print('평균', avr)"
      ],
      "execution_count": 56,
      "outputs": [
        {
          "output_type": "stream",
          "text": [
            "10/20/30/40/60/70/80/\n",
            "합계  310\n",
            "평균 31.0\n"
          ],
          "name": "stdout"
        }
      ]
    },
    {
      "cell_type": "code",
      "metadata": {
        "id": "SQzxiZTKC6PC",
        "colab_type": "code",
        "colab": {
          "base_uri": "https://localhost:8080/",
          "height": 35
        },
        "outputId": "679c9fd9-8286-42e8-d5fa-f8d1d2100cac"
      },
      "source": [
        "while(a) :\n",
        "  a = input('입력 :')\n",
        "  if a=='exit':\n",
        "    break\n",
        "  print(a)"
      ],
      "execution_count": 65,
      "outputs": [
        {
          "output_type": "stream",
          "text": [
            "입력 :exit\n"
          ],
          "name": "stdout"
        }
      ]
    }
  ]
}