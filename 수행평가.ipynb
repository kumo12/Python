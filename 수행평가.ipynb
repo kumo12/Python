{
 "cells": [
  {
   "cell_type": "markdown",
   "metadata": {},
   "source": [
    "## 30302 고유빈"
   ]
  },
  {
   "cell_type": "markdown",
   "metadata": {},
   "source": [
    "## 주제 : 인천광역시 경제활동인구총괄_현황"
   ]
  },
  {
   "cell_type": "markdown",
   "metadata": {},
   "source": [
    "출처 : https://www.data.go.kr/data/15055051/fileData.do\n",
    "       \n",
    "          기간 : 2018.08.22 ~ 2019.09.16\n",
    "          확장자 : csv"
   ]
  },
  {
   "cell_type": "code",
   "execution_count": 9,
   "metadata": {},
   "outputs": [],
   "source": [
    "import pandas as pd"
   ]
  },
  {
   "cell_type": "code",
   "execution_count": 78,
   "metadata": {
    "scrolled": true
   },
   "outputs": [],
   "source": [
    "path = r'C:\\Users\\user\\Desktop\\30302\\인구총괄.csv'\n",
    "df = pd.read_csv(path, encoding = 'CP949')"
   ]
  },
  {
   "cell_type": "code",
   "execution_count": 79,
   "metadata": {
    "scrolled": true
   },
   "outputs": [
    {
     "data": {
      "text/html": [
       "<div>\n",
       "<style scoped>\n",
       "    .dataframe tbody tr th:only-of-type {\n",
       "        vertical-align: middle;\n",
       "    }\n",
       "\n",
       "    .dataframe tbody tr th {\n",
       "        vertical-align: top;\n",
       "    }\n",
       "\n",
       "    .dataframe thead th {\n",
       "        text-align: right;\n",
       "    }\n",
       "</style>\n",
       "<table border=\"1\" class=\"dataframe\">\n",
       "  <thead>\n",
       "    <tr style=\"text-align: right;\">\n",
       "      <th></th>\n",
       "      <th>시점</th>\n",
       "      <th>성별(1)</th>\n",
       "      <th>15세이상인구 (천명)</th>\n",
       "      <th>경제활동인구 (천명)</th>\n",
       "      <th>취업자 (천명)</th>\n",
       "      <th>실업자 (천명)</th>\n",
       "      <th>비경제활동인구 (천명)</th>\n",
       "      <th>가사ㆍ육아 비경제활동인구 (천명)</th>\n",
       "      <th>통학 비경제활동인구 (천명)</th>\n",
       "      <th>기타 비경제활동인구 (천명)</th>\n",
       "      <th>경제활동참가율 (%)</th>\n",
       "      <th>고용율 (%)</th>\n",
       "      <th>실업률 (%)</th>\n",
       "    </tr>\n",
       "  </thead>\n",
       "  <tbody>\n",
       "    <tr>\n",
       "      <td>0</td>\n",
       "      <td>2016-03-04</td>\n",
       "      <td>남자</td>\n",
       "      <td>1222</td>\n",
       "      <td>941</td>\n",
       "      <td>894</td>\n",
       "      <td>47</td>\n",
       "      <td>281</td>\n",
       "      <td>17</td>\n",
       "      <td>102</td>\n",
       "      <td>162</td>\n",
       "      <td>77.0</td>\n",
       "      <td>73.1</td>\n",
       "      <td>5.0</td>\n",
       "    </tr>\n",
       "    <tr>\n",
       "      <td>1</td>\n",
       "      <td>2016-03-04</td>\n",
       "      <td>여자</td>\n",
       "      <td>1251</td>\n",
       "      <td>672</td>\n",
       "      <td>644</td>\n",
       "      <td>29</td>\n",
       "      <td>579</td>\n",
       "      <td>397</td>\n",
       "      <td>106</td>\n",
       "      <td>76</td>\n",
       "      <td>53.8</td>\n",
       "      <td>51.5</td>\n",
       "      <td>4.3</td>\n",
       "    </tr>\n",
       "    <tr>\n",
       "      <td>2</td>\n",
       "      <td>2016-04-04</td>\n",
       "      <td>남자</td>\n",
       "      <td>1225</td>\n",
       "      <td>932</td>\n",
       "      <td>894</td>\n",
       "      <td>39</td>\n",
       "      <td>293</td>\n",
       "      <td>14</td>\n",
       "      <td>107</td>\n",
       "      <td>172</td>\n",
       "      <td>76.1</td>\n",
       "      <td>72.9</td>\n",
       "      <td>4.1</td>\n",
       "    </tr>\n",
       "    <tr>\n",
       "      <td>3</td>\n",
       "      <td>2016-04-04</td>\n",
       "      <td>여자</td>\n",
       "      <td>1254</td>\n",
       "      <td>658</td>\n",
       "      <td>629</td>\n",
       "      <td>29</td>\n",
       "      <td>596</td>\n",
       "      <td>408</td>\n",
       "      <td>112</td>\n",
       "      <td>76</td>\n",
       "      <td>52.5</td>\n",
       "      <td>50.1</td>\n",
       "      <td>4.5</td>\n",
       "    </tr>\n",
       "  </tbody>\n",
       "</table>\n",
       "</div>"
      ],
      "text/plain": [
       "           시점 성별(1)  15세이상인구 (천명)  경제활동인구 (천명)  취업자 (천명)  실업자 (천명)  \\\n",
       "0  2016-03-04    남자          1222          941       894        47   \n",
       "1  2016-03-04    여자          1251          672       644        29   \n",
       "2  2016-04-04    남자          1225          932       894        39   \n",
       "3  2016-04-04    여자          1254          658       629        29   \n",
       "\n",
       "   비경제활동인구 (천명)  가사ㆍ육아 비경제활동인구 (천명)  통학 비경제활동인구 (천명)  기타 비경제활동인구 (천명)  \\\n",
       "0           281                  17              102              162   \n",
       "1           579                 397              106               76   \n",
       "2           293                  14              107              172   \n",
       "3           596                 408              112               76   \n",
       "\n",
       "   경제활동참가율 (%)  고용율 (%)  실업률 (%)  \n",
       "0         77.0     73.1      5.0  \n",
       "1         53.8     51.5      4.3  \n",
       "2         76.1     72.9      4.1  \n",
       "3         52.5     50.1      4.5  "
      ]
     },
     "execution_count": 79,
     "metadata": {},
     "output_type": "execute_result"
    }
   ],
   "source": [
    "df"
   ]
  },
  {
   "cell_type": "code",
   "execution_count": 85,
   "metadata": {},
   "outputs": [],
   "source": [
    "인구tmp = df.filter(['취업자 (천명)','실업자 (천명)'])\n",
    "인구df = 인구tmp.groupby(['취업자 (천명)']).sum()"
   ]
  },
  {
   "cell_type": "code",
   "execution_count": 86,
   "metadata": {},
   "outputs": [
    {
     "data": {
      "text/html": [
       "<div>\n",
       "<style scoped>\n",
       "    .dataframe tbody tr th:only-of-type {\n",
       "        vertical-align: middle;\n",
       "    }\n",
       "\n",
       "    .dataframe tbody tr th {\n",
       "        vertical-align: top;\n",
       "    }\n",
       "\n",
       "    .dataframe thead th {\n",
       "        text-align: right;\n",
       "    }\n",
       "</style>\n",
       "<table border=\"1\" class=\"dataframe\">\n",
       "  <thead>\n",
       "    <tr style=\"text-align: right;\">\n",
       "      <th></th>\n",
       "      <th>실업자 (천명)</th>\n",
       "    </tr>\n",
       "    <tr>\n",
       "      <th>취업자 (천명)</th>\n",
       "      <th></th>\n",
       "    </tr>\n",
       "  </thead>\n",
       "  <tbody>\n",
       "    <tr>\n",
       "      <td>629</td>\n",
       "      <td>29</td>\n",
       "    </tr>\n",
       "    <tr>\n",
       "      <td>644</td>\n",
       "      <td>29</td>\n",
       "    </tr>\n",
       "    <tr>\n",
       "      <td>894</td>\n",
       "      <td>86</td>\n",
       "    </tr>\n",
       "  </tbody>\n",
       "</table>\n",
       "</div>"
      ],
      "text/plain": [
       "          실업자 (천명)\n",
       "취업자 (천명)          \n",
       "629             29\n",
       "644             29\n",
       "894             86"
      ]
     },
     "execution_count": 86,
     "metadata": {},
     "output_type": "execute_result"
    }
   ],
   "source": [
    "인구df"
   ]
  },
  {
   "cell_type": "code",
   "execution_count": 89,
   "metadata": {
    "scrolled": true
   },
   "outputs": [
    {
     "data": {
      "text/plain": [
       "시점                    0\n",
       "성별(1)                 0\n",
       "15세이상인구 (천명)          0\n",
       "경제활동인구 (천명)           0\n",
       "취업자 (천명)              0\n",
       "실업자 (천명)              0\n",
       "비경제활동인구 (천명)          0\n",
       "가사ㆍ육아 비경제활동인구 (천명)    0\n",
       "통학 비경제활동인구 (천명)       0\n",
       "기타 비경제활동인구 (천명)       0\n",
       "경제활동참가율 (%)           0\n",
       "고용율 (%)               0\n",
       "실업률 (%)               0\n",
       "dtype: int64"
      ]
     },
     "execution_count": 89,
     "metadata": {},
     "output_type": "execute_result"
    }
   ],
   "source": [
    "df.isnull().sum()"
   ]
  },
  {
   "cell_type": "code",
   "execution_count": 90,
   "metadata": {},
   "outputs": [],
   "source": [
    "import matplotlib.pyplot as plt"
   ]
  }
 ],
 "metadata": {
  "kernelspec": {
   "display_name": "Python 3",
   "language": "python",
   "name": "python3"
  },
  "language_info": {
   "codemirror_mode": {
    "name": "ipython",
    "version": 3
   },
   "file_extension": ".py",
   "mimetype": "text/x-python",
   "name": "python",
   "nbconvert_exporter": "python",
   "pygments_lexer": "ipython3",
   "version": "3.7.4"
  }
 },
 "nbformat": 4,
 "nbformat_minor": 2
}
