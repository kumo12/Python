{
  "nbformat": 4,
  "nbformat_minor": 0,
  "metadata": {
    "colab": {
      "name": "1일차_1차시.ipynb",
      "provenance": [],
      "collapsed_sections": [],
      "authorship_tag": "ABX9TyMdh1P4b6c0wXD7ZKaHKq0x",
      "include_colab_link": true
    },
    "kernelspec": {
      "name": "python3",
      "display_name": "Python 3"
    }
  },
  "cells": [
    {
      "cell_type": "markdown",
      "metadata": {
        "id": "view-in-github",
        "colab_type": "text"
      },
      "source": [
        "<a href=\"https://colab.research.google.com/github/kumo12/Python/blob/master/1%EC%9D%BC%EC%B0%A8_1%EC%B0%A8%EC%8B%9C.ipynb\" target=\"_parent\"><img src=\"https://colab.research.google.com/assets/colab-badge.svg\" alt=\"Open In Colab\"/></a>"
      ]
    },
    {
      "cell_type": "code",
      "metadata": {
        "id": "0JpsDYZU2h4z",
        "colab_type": "code",
        "colab": {
          "base_uri": "https://localhost:8080/",
          "height": 35
        },
        "outputId": "5a4e979c-d412-47b4-88f4-8b75e1e6282d"
      },
      "source": [
        "  print('인천정보산업고')"
      ],
      "execution_count": 5,
      "outputs": [
        {
          "output_type": "stream",
          "text": [
            "인천정보산업고\n"
          ],
          "name": "stdout"
        }
      ]
    },
    {
      "cell_type": "code",
      "metadata": {
        "id": "-CtNraYQ4CBb",
        "colab_type": "code",
        "colab": {
          "base_uri": "https://localhost:8080/",
          "height": 35
        },
        "outputId": "b54c6d52-5f1b-47a2-99e4-571cb9b72772"
      },
      "source": [
        "     a=1\n",
        "     b=2\n",
        "     a\n",
        "     b"
      ],
      "execution_count": 6,
      "outputs": [
        {
          "output_type": "execute_result",
          "data": {
            "text/plain": [
              "2"
            ]
          },
          "metadata": {
            "tags": []
          },
          "execution_count": 6
        }
      ]
    },
    {
      "cell_type": "markdown",
      "metadata": {
        "id": "ukiA4Owg3Ohb",
        "colab_type": "text"
      },
      "source": [
        "오늘은 **1일차 1교시 출력문** 작성내용입니다.\n",
        "\n",
        "---\n",
        "오늘의 학습목표\n",
        "1.  개발환경 설치\n",
        "2.  출력문 작성\n",
        "---"
      ]
    },
    {
      "cell_type": "code",
      "metadata": {
        "id": "ZkEUBe1_3loz",
        "colab_type": "code",
        "colab": {}
      },
      "source": [
        "1"
      ],
      "execution_count": 0,
      "outputs": []
    },
    {
      "cell_type": "markdown",
      "metadata": {
        "id": "ApSIAIgd4bfk",
        "colab_type": "text"
      },
      "source": [
        "사칙연산\n",
        "\n",
        "\n",
        "# +, -, *, **, /, //, %,\n",
        "a=3, b=2\n",
        "a+b=5\n"
      ]
    },
    {
      "cell_type": "code",
      "metadata": {
        "id": "k46msxG94var",
        "colab_type": "code",
        "colab": {
          "base_uri": "https://localhost:8080/",
          "height": 125
        },
        "outputId": "48f99ea6-12f5-4c8c-c0a1-37b854db526a"
      },
      "source": [
        " a=3\n",
        " b=2\n",
        " print('a + b = ', a+b)\n",
        "\n",
        " a=3\n",
        " b=2\n",
        " print('a - b = ', a-b)\n",
        "\n",
        " a=3\n",
        " b=2\n",
        " print(\"a * b = \", a*b)\n",
        "\n",
        " a=3\n",
        " b=2\n",
        " print('a / b = ', a/b)\n",
        "\n",
        " a=3\n",
        " b=2\n",
        " print('a // b = ', a//b)\n",
        "\n",
        " a=3\n",
        " b=2\n",
        " print('a % b = ', a%b)"
      ],
      "execution_count": 4,
      "outputs": [
        {
          "output_type": "stream",
          "text": [
            "a + b =  5\n",
            "a - b =  1\n",
            "a * b =  6\n",
            "a / b =  1.5\n",
            "a // b =  1\n",
            "a % b =  1\n"
          ],
          "name": "stdout"
        }
      ]
    }
  ]
}